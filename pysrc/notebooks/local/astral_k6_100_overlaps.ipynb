{
 "cells": [
  {
   "cell_type": "code",
   "execution_count": 1,
   "metadata": {
    "pycharm": {
     "is_executing": false
    }
   },
   "outputs": [],
   "source": [
    "from Bio import SeqIO\n",
    "import csv\n",
    "import numpy as np\n",
    "import functools\n",
    "import operator\n",
    "import gzip"
   ]
  },
  {
   "cell_type": "code",
   "execution_count": 6,
   "metadata": {
    "pycharm": {
     "is_executing": false
    }
   },
   "outputs": [],
   "source": [
    "overlaps_fname = '/Users/esaliya/sali/git/github/esaliya/cpp/lbl.pastis/overlap.txt'\n",
    "seqs_fname = '/Users/esaliya/sali/data/scope/uniqs/100/100_of_77040_unique_of_243813_astral-scopedom-seqres-gd-all-2.07-stable.fa' \n"
   ]
  },
  {
   "cell_type": "code",
   "execution_count": 7,
   "metadata": {
    "jupyter": {
     "outputs_hidden": false
    },
    "pycharm": {
     "is_executing": false,
     "name": "#%%\n"
    }
   },
   "outputs": [
    {
     "name": "stdout",
     "output_type": "stream",
     "text": [
      "Read  100  sequences\n"
     ]
    }
   ],
   "source": [
    "# All super-families dictionary. Each super family entry will have list,\n",
    "# where the first element is the number of families in it and the second\n",
    "# is a dictionary for each of its families (family name -> sequence count in family).\n",
    "all_sfs = {}\n",
    "fam_names = []\n",
    "sf_names = []\n",
    "limit = 'all'\n",
    "with open(seqs_fname, \"r\") as seqf:\n",
    "    count = 0\n",
    "    for record in SeqIO.parse(seqf, \"fasta\"):\n",
    "        if count != 'all' and count == limit:\n",
    "            break\n",
    "        l_idx = record.description.index(\" \")\n",
    "        r_idx = record.description.index(\" \", l_idx+1)\n",
    "        cls, fold, sf, fam = record.description[l_idx: r_idx].split('.')\n",
    "        fam_names.append(fam)\n",
    "        sf_names.append(sf)\n",
    "        if sf in all_sfs:\n",
    "            sf_fams = all_sfs[sf][1]\n",
    "            if fam in sf_fams:\n",
    "                sf_fams[fam] += 1\n",
    "            else:\n",
    "                sf_fams[fam] = 1\n",
    "            all_sfs[sf][0] += 1\n",
    "        else:\n",
    "            all_sfs[sf] = [1, {fam: 1}]\n",
    "\n",
    "        count += 1\n",
    "print(\"Read \", count, \" sequences\")"
   ]
  },
  {
   "cell_type": "code",
   "execution_count": 8,
   "metadata": {
    "jupyter": {
     "outputs_hidden": false
    },
    "pycharm": {
     "is_executing": false,
     "name": "#%%\n"
    }
   },
   "outputs": [
    {
     "name": "stdout",
     "output_type": "stream",
     "text": [
      "Num super families:  1\n",
      "Num families:  3\n",
      "[51 30 19]\n",
      "[100]\n"
     ]
    }
   ],
   "source": [
    "num_sf = len(all_sfs.keys())\n",
    "num_fam = sum([len(all_sfs[k][1].keys()) for k in all_sfs])\n",
    "print(\"Num super families: \", num_sf)               \n",
    "print(\"Num families: \", num_fam)\n",
    "\n",
    "all_sf_fams_seq_counts = [list(all_sfs[k][1].values()) for k in all_sfs]\n",
    "fam_seq_counts = np.array(functools.reduce(operator.iconcat, all_sf_fams_seq_counts, []))\n",
    "sf_seq_counts = np.array([sum(sf_fams_seq_counts) for sf_fams_seq_counts in all_sf_fams_seq_counts])\n",
    "print(fam_seq_counts)\n",
    "print(sf_seq_counts)"
   ]
  },
  {
   "cell_type": "code",
   "execution_count": 9,
   "metadata": {
    "jupyter": {
     "outputs_hidden": false
    },
    "pycharm": {
     "is_executing": false,
     "name": "#%%\n"
    }
   },
   "outputs": [
    {
     "name": "stdout",
     "output_type": "stream",
     "text": [
      "1881.0 4950.0 3069.0\n"
     ]
    }
   ],
   "source": [
    "# Number of family pairs (top triangle only, excludes diagonal as well)\n",
    "num_fam_pairs = np.sum(fam_seq_counts * (fam_seq_counts - 1) / 2)\n",
    "# Number of super-family pairs (top triangle only, excludes diagonal as well). Includes family pairs too.\n",
    "num_sf_pairs = np.sum(sf_seq_counts * (sf_seq_counts - 1) / 2)\n",
    "num_sf_only_pairs = num_sf_pairs - num_fam_pairs\n",
    "print(num_fam_pairs, num_sf_pairs, num_sf_only_pairs)\n"
   ]
  },
  {
   "cell_type": "code",
   "execution_count": 14,
   "metadata": {
    "jupyter": {
     "outputs_hidden": false
    },
    "pycharm": {
     "is_executing": false,
     "name": "#%%\n"
    }
   },
   "outputs": [
    {
     "name": "stdout",
     "output_type": "stream",
     "text": [
      "all pairs:  4950.0\n",
      "fam_pair ratio:  0.38\n",
      "sf_pair ratio:  1.0\n"
     ]
    }
   ],
   "source": [
    "all_pair_count = count*(count - 1)/2\n",
    "print(\"all pairs: \", all_pair_count)\n",
    "print(\"fam_pair ratio: \", num_fam_pairs / all_pair_count)\n",
    "print(\"sf_pair ratio: \", num_sf_pairs / all_pair_count)"
   ]
  },
  {
   "cell_type": "code",
   "execution_count": 15,
   "metadata": {},
   "outputs": [
    {
     "name": "stdout",
     "output_type": "stream",
     "text": [
      "['g_col_idx', 'g_row_idx', 'common_kmer_count']\n",
      "Line count:  311\n",
      "Total time:  0.003462000000000298 s\n"
     ]
    }
   ],
   "source": [
    "import time\n",
    "t = time.process_time()\n",
    "num_A, num_B, num_C = 0, 0, 0\n",
    "with open(overlaps_fname, 'rt') as csv_file:\n",
    "    csv_reader = csv.reader(csv_file, delimiter=',')\n",
    "    print(next(csv_reader))  # ignore header\n",
    "    line_count = 0\n",
    "    for g_col, g_row, shared_kmer_count in csv_reader:\n",
    "        \n",
    "        g_col = int(g_col)\n",
    "        g_row = int(g_row)\n",
    "        if sf_names[g_col] == sf_names[g_row]:\n",
    "            if fam_names[g_col] == fam_names[g_row]:\n",
    "                num_A += 1\n",
    "            else: \n",
    "                num_B += 1\n",
    "        else:\n",
    "            num_C += 1\n",
    "        line_count += 1\n",
    "        if line_count % 1000000 == 0:\n",
    "            elapsed = time.process_time() - t\n",
    "            print(\"lines \", line_count, \" of \", all_pair_count, \" (\", round((line_count*100.0/2967542280), 2), \"%) took \", elapsed, \"s\")\n",
    "\n",
    "print(\"Line count: \", line_count)\n",
    "print(\"Total time: \", (time.process_time() - t), \"s\")      \n",
    "        \n",
    "            "
   ]
  },
  {
   "cell_type": "code",
   "execution_count": 16,
   "metadata": {},
   "outputs": [
    {
     "name": "stdout",
     "output_type": "stream",
     "text": [
      "248 63 0\n",
      "1881.0\n"
     ]
    }
   ],
   "source": [
    "print(num_A, num_B, num_C)\n",
    "print(num_fam_pairs)"
   ]
  },
  {
   "cell_type": "markdown",
   "metadata": {},
   "source": [
    "## Overall accuracy"
   ]
  },
  {
   "cell_type": "code",
   "execution_count": 17,
   "metadata": {
    "jupyter": {
     "outputs_hidden": false
    },
    "pycharm": {
     "is_executing": false,
     "name": "#%%\n"
    }
   },
   "outputs": [
    {
     "name": "stdout",
     "output_type": "stream",
     "text": [
      "0.1318447634237108 1.0\n"
     ]
    }
   ],
   "source": [
    "recall = num_A / num_fam_pairs\n",
    "precision = (num_A + num_B) / (num_A+num_B+num_C)\n",
    "print(recall, precision)"
   ]
  },
  {
   "cell_type": "markdown",
   "metadata": {},
   "source": [
    "## Family only accuracy"
   ]
  },
  {
   "cell_type": "code",
   "execution_count": 18,
   "metadata": {},
   "outputs": [
    {
     "name": "stdout",
     "output_type": "stream",
     "text": [
      "0.1318447634237108 0.797427652733119\n"
     ]
    }
   ],
   "source": [
    "fam_recall = recall\n",
    "fam_precision = num_A/ (num_A+num_B+num_C)\n",
    "print(fam_recall, fam_precision)"
   ]
  },
  {
   "cell_type": "markdown",
   "metadata": {},
   "source": [
    "## Super family accuracy"
   ]
  },
  {
   "cell_type": "code",
   "execution_count": 19,
   "metadata": {},
   "outputs": [
    {
     "name": "stdout",
     "output_type": "stream",
     "text": [
      "0.06282828282828283 1.0\n"
     ]
    }
   ],
   "source": [
    "sf_recall = (num_A + num_B) / (num_fam_pairs + num_sf_only_pairs)\n",
    "sf_precision = precision\n",
    "print(sf_recall, sf_precision)"
   ]
  },
  {
   "cell_type": "code",
   "execution_count": 20,
   "metadata": {},
   "outputs": [
    {
     "name": "stdout",
     "output_type": "stream",
     "text": [
      "0 3006 63 0 0 1633 248\n"
     ]
    }
   ],
   "source": [
    "Abc = int(num_C)\n",
    "aBc = int(num_sf_only_pairs - num_B)\n",
    "ABc = int(num_B)\n",
    "abC = 0\n",
    "AbC = 0\n",
    "aBC = int(num_fam_pairs - num_A)\n",
    "ABC = int(num_A)\n",
    "print(Abc, aBc, ABc, abC, AbC, aBC, ABC)"
   ]
  },
  {
   "cell_type": "code",
   "execution_count": 21,
   "metadata": {
    "pycharm": {
     "is_executing": false
    }
   },
   "outputs": [
    {
     "name": "stderr",
     "output_type": "stream",
     "text": [
      "/anaconda3/envs/py372/lib/python3.7/site-packages/matplotlib_venn/_venn3.py:47: UserWarning: All circles have zero area\n",
      "  warnings.warn(\"All circles have zero area\")\n"
     ]
    },
    {
     "ename": "AttributeError",
     "evalue": "'NoneType' object has no attribute 'set_color'",
     "output_type": "error",
     "traceback": [
      "\u001b[0;31m---------------------------------------------------------------------------\u001b[0m",
      "\u001b[0;31mAttributeError\u001b[0m                            Traceback (most recent call last)",
      "\u001b[0;32m<ipython-input-21-e4956577c286>\u001b[0m in \u001b[0;36m<module>\u001b[0;34m\u001b[0m\n\u001b[1;32m     28\u001b[0m \u001b[0mlbl\u001b[0m\u001b[0;34m.\u001b[0m\u001b[0mset_multialignment\u001b[0m\u001b[0;34m(\u001b[0m\u001b[0;34m'center'\u001b[0m\u001b[0;34m)\u001b[0m\u001b[0;34m\u001b[0m\u001b[0;34m\u001b[0m\u001b[0m\n\u001b[1;32m     29\u001b[0m \u001b[0;34m\u001b[0m\u001b[0m\n\u001b[0;32m---> 30\u001b[0;31m \u001b[0mv\u001b[0m\u001b[0;34m.\u001b[0m\u001b[0mget_patch_by_id\u001b[0m\u001b[0;34m(\u001b[0m\u001b[0;34m'100'\u001b[0m\u001b[0;34m)\u001b[0m\u001b[0;34m.\u001b[0m\u001b[0mset_color\u001b[0m\u001b[0;34m(\u001b[0m\u001b[0;34m'#f7b154'\u001b[0m\u001b[0;34m)\u001b[0m\u001b[0;34m\u001b[0m\u001b[0;34m\u001b[0m\u001b[0m\n\u001b[0m\u001b[1;32m     31\u001b[0m \u001b[0mv\u001b[0m\u001b[0;34m.\u001b[0m\u001b[0mget_patch_by_id\u001b[0m\u001b[0;34m(\u001b[0m\u001b[0;34m'100'\u001b[0m\u001b[0;34m)\u001b[0m\u001b[0;34m.\u001b[0m\u001b[0mset_alpha\u001b[0m\u001b[0;34m(\u001b[0m\u001b[0;36m0.9\u001b[0m\u001b[0;34m)\u001b[0m\u001b[0;34m\u001b[0m\u001b[0;34m\u001b[0m\u001b[0m\n\u001b[1;32m     32\u001b[0m \u001b[0mlbl\u001b[0m \u001b[0;34m=\u001b[0m \u001b[0mv\u001b[0m\u001b[0;34m.\u001b[0m\u001b[0mget_label_by_id\u001b[0m\u001b[0;34m(\u001b[0m\u001b[0;34m'100'\u001b[0m\u001b[0;34m)\u001b[0m\u001b[0;34m\u001b[0m\u001b[0;34m\u001b[0m\u001b[0m\n",
      "\u001b[0;31mAttributeError\u001b[0m: 'NoneType' object has no attribute 'set_color'"
     ]
    }
   ],
   "source": [
    "#%matplotlib inline\n",
    "from matplotlib import pyplot as plt\n",
    "import numpy as np\n",
    "from matplotlib_venn import venn3, venn3_circles\n",
    "# venn3(subsets = (10, 8, 22, 0,0,4,2), set_labels=(\"6-mer Overlap Pairs\", \"Super-family Pairs\", \"Family Pairs\" ))\n",
    "mul = int(1e5)\n",
    "mul_str='e5'\n",
    "plt.figure(figsize=(8,8))\n",
    "\n",
    "v = venn3(subsets = (Abc//mul, aBc//mul, ABc//mul, abC//mul, AbC//mul, aBC//mul, ABC//mul), set_labels=(\"PISA output:\\n6-mer Overlap\\nPairs\", \"Super-family\\nPairs\", \"Family\\nPairs\" ))\n",
    "plt.gca().set_facecolor('#616161')\n",
    "plt.gca().set_axis_on()\n",
    "\n",
    "\n",
    "lbl = v.get_label_by_id('A')\n",
    "x, y = lbl.get_position()\n",
    "lbl.set_position((x+0.12, y-0.3))\n",
    "lbl.set_multialignment('center')\n",
    "\n",
    "lbl = v.get_label_by_id('B')\n",
    "x, y = lbl.get_position()\n",
    "lbl.set_position((x-0.3, y-0.1))\n",
    "lbl.set_multialignment('center')\n",
    "\n",
    "lbl = v.get_label_by_id('C')\n",
    "x, y = lbl.get_position()\n",
    "lbl.set_position((x, y+0.12))\n",
    "lbl.set_multialignment('center')\n",
    "\n",
    "v.get_patch_by_id('100').set_color('#f7b154')\n",
    "v.get_patch_by_id('100').set_alpha(0.9)\n",
    "lbl = v.get_label_by_id('100')\n",
    "lbl.set_size('large')\n",
    "lbl.set_text(f'~{Abc//mul}{mul_str}')\n",
    "\n",
    "v.get_patch_by_id('110').set_color('#f2f2c9')\n",
    "v.get_patch_by_id('110').set_alpha(0.9)\n",
    "lbl = v.get_label_by_id('110')\n",
    "lbl.set_size('large')\n",
    "lbl.set_text(f'~{ABc//mul}{mul_str}')\n",
    "\n",
    "v.get_patch_by_id('111').set_color('#54b3f7')\n",
    "v.get_patch_by_id('111').set_alpha(0.9)\n",
    "lbl = v.get_label_by_id('111')\n",
    "x, y = lbl.get_position()\n",
    "lbl.set_position((x+0.1, y))\n",
    "lbl.set_size('large')\n",
    "lbl.set_text(f'~{ABC//mul}{mul_str}')\n",
    "\n",
    "plt.savefig('k5.venn_subs_5percent.venn.png', dpi=100)\n"
   ]
  },
  {
   "cell_type": "code",
   "execution_count": null,
   "metadata": {
    "jupyter": {
     "outputs_hidden": false
    },
    "pycharm": {
     "name": "#%%\n"
    }
   },
   "outputs": [],
   "source": [
    "#%matplotlib inline\n",
    "from matplotlib import pyplot as plt\n",
    "import numpy as np\n",
    "from matplotlib_venn import venn3, venn3_circles\n",
    "# venn3(subsets = (10, 8, 22, 0,0,4,2), set_labels=(\"6-mer Overlap Pairs\", \"Super-family Pairs\", \"Family Pairs\" ))\n",
    "mul = int(1e7)\n",
    "v = venn3(subsets = (Abc//mul, aBc//mul, ABc//mul, abC//mul, AbC//mul, aBC//mul, ABC//mul), set_labels=(\"PISA output: 6-mer Overlap Pairs\", \"Super-family Pairs\", \"Family Pairs\" ))\n",
    "v.get_patch_by_id('100').set_color\n",
    "plt.show()\n"
   ]
  }
 ],
 "metadata": {
  "kernelspec": {
   "display_name": "Python 3",
   "language": "python",
   "name": "python3"
  },
  "language_info": {
   "codemirror_mode": {
    "name": "ipython",
    "version": 3
   },
   "file_extension": ".py",
   "mimetype": "text/x-python",
   "name": "python",
   "nbconvert_exporter": "python",
   "pygments_lexer": "ipython3",
   "version": "3.7.2"
  },
  "pycharm": {
   "stem_cell": {
    "cell_type": "raw",
    "metadata": {
     "collapsed": false
    },
    "source": []
   }
  }
 },
 "nbformat": 4,
 "nbformat_minor": 4
}
